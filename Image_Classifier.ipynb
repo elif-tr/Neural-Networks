{
  "nbformat": 4,
  "nbformat_minor": 0,
  "metadata": {
    "colab": {
      "name": "Image  Classifier.ipynb",
      "provenance": [],
      "collapsed_sections": [],
      "authorship_tag": "ABX9TyOMXZNmYhs6ix0LNl/yxZam",
      "include_colab_link": true
    },
    "kernelspec": {
      "name": "python3",
      "display_name": "Python 3"
    }
  },
  "cells": [
    {
      "cell_type": "markdown",
      "metadata": {
        "id": "view-in-github",
        "colab_type": "text"
      },
      "source": [
        "<a href=\"https://colab.research.google.com/github/elif-tr/Neural-Networks/blob/master/Image_Classifier.ipynb\" target=\"_parent\"><img src=\"https://colab.research.google.com/assets/colab-badge.svg\" alt=\"Open In Colab\"/></a>"
      ]
    },
    {
      "cell_type": "markdown",
      "metadata": {
        "id": "I0h_Mm-WfMXE",
        "colab_type": "text"
      },
      "source": [
        "# Creating a Model Using Sequential API "
      ]
    },
    {
      "cell_type": "code",
      "metadata": {
        "id": "lh7B8puJQB7l",
        "colab_type": "code",
        "colab": {}
      },
      "source": [
        "import tensorflow as tf\n",
        "from tensorflow import keras"
      ],
      "execution_count": null,
      "outputs": []
    },
    {
      "cell_type": "code",
      "metadata": {
        "id": "Ssn30HrmRbPj",
        "colab_type": "code",
        "colab": {}
      },
      "source": [
        "fashion_mnist = keras.datasets.fashion_mnist"
      ],
      "execution_count": null,
      "outputs": []
    },
    {
      "cell_type": "code",
      "metadata": {
        "id": "Kt4AtBd0SAHq",
        "colab_type": "code",
        "colab": {}
      },
      "source": [
        "(X_train_full, y_train_full), (X_test, y_test) = fashion_mnist.load_data()"
      ],
      "execution_count": null,
      "outputs": []
    },
    {
      "cell_type": "code",
      "metadata": {
        "id": "Y24B3tISSJqN",
        "colab_type": "code",
        "colab": {
          "base_uri": "https://localhost:8080/",
          "height": 34
        },
        "outputId": "eda87b79-510d-4352-ee5f-7d49bd077fe5"
      },
      "source": [
        "X_train_full.shape"
      ],
      "execution_count": null,
      "outputs": [
        {
          "output_type": "execute_result",
          "data": {
            "text/plain": [
              "(60000, 28, 28)"
            ]
          },
          "metadata": {
            "tags": []
          },
          "execution_count": 4
        }
      ]
    },
    {
      "cell_type": "code",
      "metadata": {
        "id": "le8rSSHzSq3D",
        "colab_type": "code",
        "colab": {
          "base_uri": "https://localhost:8080/",
          "height": 34
        },
        "outputId": "630b3f80-37ea-4efe-c184-e915d340317b"
      },
      "source": [
        "y_train_full.shape"
      ],
      "execution_count": null,
      "outputs": [
        {
          "output_type": "execute_result",
          "data": {
            "text/plain": [
              "(60000,)"
            ]
          },
          "metadata": {
            "tags": []
          },
          "execution_count": 5
        }
      ]
    },
    {
      "cell_type": "code",
      "metadata": {
        "id": "hE7c-w7jmV97",
        "colab_type": "code",
        "colab": {
          "base_uri": "https://localhost:8080/",
          "height": 34
        },
        "outputId": "e54f520e-a697-483e-bacb-2d37e2f45ae7"
      },
      "source": [
        "X_test.shape"
      ],
      "execution_count": null,
      "outputs": [
        {
          "output_type": "execute_result",
          "data": {
            "text/plain": [
              "(10000, 28, 28)"
            ]
          },
          "metadata": {
            "tags": []
          },
          "execution_count": 6
        }
      ]
    },
    {
      "cell_type": "code",
      "metadata": {
        "id": "Lex1vrQgmZvV",
        "colab_type": "code",
        "colab": {
          "base_uri": "https://localhost:8080/",
          "height": 34
        },
        "outputId": "01a471fe-7f09-4e65-9baa-9b256f03fec5"
      },
      "source": [
        "y_test.shape"
      ],
      "execution_count": null,
      "outputs": [
        {
          "output_type": "execute_result",
          "data": {
            "text/plain": [
              "(10000,)"
            ]
          },
          "metadata": {
            "tags": []
          },
          "execution_count": 7
        }
      ]
    },
    {
      "cell_type": "markdown",
      "metadata": {
        "id": "U-mBxDqKS5qo",
        "colab_type": "text"
      },
      "source": [
        "If you notice, we do not have validation set. Additionally, since we will traint the  model using neural network using  Gradient Descent, we must scale our input features.  We  will scale the  picture intesity to 0  - 1 range."
      ]
    },
    {
      "cell_type": "code",
      "metadata": {
        "id": "KACzZ8OTSs0s",
        "colab_type": "code",
        "colab": {}
      },
      "source": [
        "X_valid, X_train = X_train_full[:5000]/255.0, X_train_full[5000:]/255.0\n",
        "y_valid, y_train = y_train_full[:5000], y_train_full[5000:]"
      ],
      "execution_count": null,
      "outputs": []
    },
    {
      "cell_type": "code",
      "metadata": {
        "id": "OCj5WpDETwt6",
        "colab_type": "code",
        "colab": {}
      },
      "source": [
        "#adding the list of classes\n",
        "class_names = ['T-shirt/top', 'Trouser', 'Pullover', 'Dress', 'Coat', 'Sandal', 'Shirt', 'Sneaker', 'Bag', 'Ankle boot']"
      ],
      "execution_count": null,
      "outputs": []
    },
    {
      "cell_type": "code",
      "metadata": {
        "id": "fT8BAI9-UMDD",
        "colab_type": "code",
        "colab": {
          "base_uri": "https://localhost:8080/",
          "height": 35
        },
        "outputId": "44b6c5c0-ed2e-4186-bd4a-d61f1295c283"
      },
      "source": [
        "#First Image in the training set\n",
        "class_names[y_train[0]]"
      ],
      "execution_count": null,
      "outputs": [
        {
          "output_type": "execute_result",
          "data": {
            "application/vnd.google.colaboratory.intrinsic+json": {
              "type": "string"
            },
            "text/plain": [
              "'Coat'"
            ]
          },
          "metadata": {
            "tags": []
          },
          "execution_count": 10
        }
      ]
    },
    {
      "cell_type": "code",
      "metadata": {
        "id": "iyyQLKAMUcRy",
        "colab_type": "code",
        "colab": {}
      },
      "source": [
        "#Classification MLP with two hidden layers\n",
        "model = keras.models.Sequential()\n",
        "model.add(keras.layers.Flatten(input_shape = [28,28]))\n",
        "model.add(keras.layers.Dense(300, activation=\"relu\"))\n",
        "model.add(keras.layers.Dense(100, activation=\"relu\"))\n",
        "model.add(keras.layers.Dense(10, activation=\"softmax\"))\n"
      ],
      "execution_count": null,
      "outputs": []
    },
    {
      "cell_type": "code",
      "metadata": {
        "id": "C2h09QJ8VzzH",
        "colab_type": "code",
        "colab": {}
      },
      "source": [
        "#alternatively we can create the MLP as follows:\n",
        "model = keras.models.Sequential([\n",
        "                                 keras.layers.Flatten(input_shape=[28,28]),\n",
        "                                 keras.layers.Dense(300, activation=\"relu\"),\n",
        "                                 keras.layers.Dense(100, activation=\"relu\"),\n",
        "                                 keras.layers.Dense(10, activation=\"softmax\")\n",
        "])"
      ],
      "execution_count": null,
      "outputs": []
    },
    {
      "cell_type": "code",
      "metadata": {
        "id": "stuPojjYXSin",
        "colab_type": "code",
        "colab": {
          "base_uri": "https://localhost:8080/",
          "height": 289
        },
        "outputId": "56150197-810f-4308-8ae7-1d65fe4ba041"
      },
      "source": [
        "model.summary()"
      ],
      "execution_count": null,
      "outputs": [
        {
          "output_type": "stream",
          "text": [
            "Model: \"sequential_1\"\n",
            "_________________________________________________________________\n",
            "Layer (type)                 Output Shape              Param #   \n",
            "=================================================================\n",
            "flatten_1 (Flatten)          (None, 784)               0         \n",
            "_________________________________________________________________\n",
            "dense_3 (Dense)              (None, 300)               235500    \n",
            "_________________________________________________________________\n",
            "dense_4 (Dense)              (None, 100)               30100     \n",
            "_________________________________________________________________\n",
            "dense_5 (Dense)              (None, 10)                1010      \n",
            "=================================================================\n",
            "Total params: 266,610\n",
            "Trainable params: 266,610\n",
            "Non-trainable params: 0\n",
            "_________________________________________________________________\n"
          ],
          "name": "stdout"
        }
      ]
    },
    {
      "cell_type": "markdown",
      "metadata": {
        "id": "vcXxNYjVdgu1",
        "colab_type": "text"
      },
      "source": [
        "None Indicates that the bathc size can be anything! \n",
        "\n",
        "First hidden layer has 784 X 300 connection weights plus 300 bias terms. "
      ]
    },
    {
      "cell_type": "code",
      "metadata": {
        "id": "E0s0To6sYaRz",
        "colab_type": "code",
        "colab": {
          "base_uri": "https://localhost:8080/",
          "height": 85
        },
        "outputId": "f500a05f-be04-4126-cbcf-1cb0b087d73e"
      },
      "source": [
        "#Get the models list of layers\n",
        "model.layers"
      ],
      "execution_count": null,
      "outputs": [
        {
          "output_type": "execute_result",
          "data": {
            "text/plain": [
              "[<tensorflow.python.keras.layers.core.Flatten at 0x7fb05663fa20>,\n",
              " <tensorflow.python.keras.layers.core.Dense at 0x7fb0566762e8>,\n",
              " <tensorflow.python.keras.layers.core.Dense at 0x7fb01c157a20>,\n",
              " <tensorflow.python.keras.layers.core.Dense at 0x7fb01c157f60>]"
            ]
          },
          "metadata": {
            "tags": []
          },
          "execution_count": 14
        }
      ]
    },
    {
      "cell_type": "code",
      "metadata": {
        "id": "NXhyFB8ceDyk",
        "colab_type": "code",
        "colab": {}
      },
      "source": [
        "#Fetch a layer by its index\n",
        "hidden1 = model.layers[1]"
      ],
      "execution_count": null,
      "outputs": []
    },
    {
      "cell_type": "code",
      "metadata": {
        "id": "gIwH_BZ0ebyK",
        "colab_type": "code",
        "colab": {}
      },
      "source": [
        "#Access the  paramaters of a layer including its weights and biases\n",
        "weights, biases = hidden1.get_weights()"
      ],
      "execution_count": null,
      "outputs": []
    },
    {
      "cell_type": "code",
      "metadata": {
        "id": "HwK1PgYHeoIc",
        "colab_type": "code",
        "colab": {
          "base_uri": "https://localhost:8080/",
          "height": 238
        },
        "outputId": "c815ba63-3ef0-43e8-f3e4-ad07bc2b61a2"
      },
      "source": [
        "weights"
      ],
      "execution_count": null,
      "outputs": [
        {
          "output_type": "execute_result",
          "data": {
            "text/plain": [
              "array([[ 0.01315162,  0.02596543, -0.01109169, ...,  0.04898356,\n",
              "        -0.0063208 , -0.06915328],\n",
              "       [-0.01718264,  0.05944559,  0.02990948, ...,  0.04220353,\n",
              "         0.03941459,  0.06746058],\n",
              "       [ 0.02825452,  0.06707378,  0.01859377, ...,  0.06291062,\n",
              "        -0.00683049, -0.03104591],\n",
              "       ...,\n",
              "       [ 0.06734927, -0.00378102, -0.0488288 , ..., -0.00500021,\n",
              "         0.04785345,  0.01858975],\n",
              "       [-0.00959877,  0.05814962, -0.01339681, ..., -0.06297366,\n",
              "        -0.02510071, -0.03382431],\n",
              "       [ 0.0420434 , -0.06294916, -0.04600357, ..., -0.07435755,\n",
              "         0.00308112, -0.0190167 ]], dtype=float32)"
            ]
          },
          "metadata": {
            "tags": []
          },
          "execution_count": 17
        }
      ]
    },
    {
      "cell_type": "code",
      "metadata": {
        "id": "vB1O_aTQeo7I",
        "colab_type": "code",
        "colab": {
          "base_uri": "https://localhost:8080/",
          "height": 323
        },
        "outputId": "f8e803e8-309c-40f3-ccf0-8934a6a30b97"
      },
      "source": [
        "biases"
      ],
      "execution_count": null,
      "outputs": [
        {
          "output_type": "execute_result",
          "data": {
            "text/plain": [
              "array([0., 0., 0., 0., 0., 0., 0., 0., 0., 0., 0., 0., 0., 0., 0., 0., 0.,\n",
              "       0., 0., 0., 0., 0., 0., 0., 0., 0., 0., 0., 0., 0., 0., 0., 0., 0.,\n",
              "       0., 0., 0., 0., 0., 0., 0., 0., 0., 0., 0., 0., 0., 0., 0., 0., 0.,\n",
              "       0., 0., 0., 0., 0., 0., 0., 0., 0., 0., 0., 0., 0., 0., 0., 0., 0.,\n",
              "       0., 0., 0., 0., 0., 0., 0., 0., 0., 0., 0., 0., 0., 0., 0., 0., 0.,\n",
              "       0., 0., 0., 0., 0., 0., 0., 0., 0., 0., 0., 0., 0., 0., 0., 0., 0.,\n",
              "       0., 0., 0., 0., 0., 0., 0., 0., 0., 0., 0., 0., 0., 0., 0., 0., 0.,\n",
              "       0., 0., 0., 0., 0., 0., 0., 0., 0., 0., 0., 0., 0., 0., 0., 0., 0.,\n",
              "       0., 0., 0., 0., 0., 0., 0., 0., 0., 0., 0., 0., 0., 0., 0., 0., 0.,\n",
              "       0., 0., 0., 0., 0., 0., 0., 0., 0., 0., 0., 0., 0., 0., 0., 0., 0.,\n",
              "       0., 0., 0., 0., 0., 0., 0., 0., 0., 0., 0., 0., 0., 0., 0., 0., 0.,\n",
              "       0., 0., 0., 0., 0., 0., 0., 0., 0., 0., 0., 0., 0., 0., 0., 0., 0.,\n",
              "       0., 0., 0., 0., 0., 0., 0., 0., 0., 0., 0., 0., 0., 0., 0., 0., 0.,\n",
              "       0., 0., 0., 0., 0., 0., 0., 0., 0., 0., 0., 0., 0., 0., 0., 0., 0.,\n",
              "       0., 0., 0., 0., 0., 0., 0., 0., 0., 0., 0., 0., 0., 0., 0., 0., 0.,\n",
              "       0., 0., 0., 0., 0., 0., 0., 0., 0., 0., 0., 0., 0., 0., 0., 0., 0.,\n",
              "       0., 0., 0., 0., 0., 0., 0., 0., 0., 0., 0., 0., 0., 0., 0., 0., 0.,\n",
              "       0., 0., 0., 0., 0., 0., 0., 0., 0., 0., 0.], dtype=float32)"
            ]
          },
          "metadata": {
            "tags": []
          },
          "execution_count": 18
        }
      ]
    },
    {
      "cell_type": "markdown",
      "metadata": {
        "id": "BRNrS9mZfcMM",
        "colab_type": "text"
      },
      "source": [
        "Since the shape of the weigth matrix depends on the number of inputs, it is \n",
        "important to specify the shape with inout_shape creating the first layer. However, if you do not know or forget the specify it,  it is okay as Keras will wait until it knows the input shape before building the model. This will happen when you feed the actual data or when you call the build() method. Until the model is built, the layers will not have any weights. "
      ]
    },
    {
      "cell_type": "code",
      "metadata": {
        "id": "C1x2-Hh0ep0K",
        "colab_type": "code",
        "colab": {}
      },
      "source": [
        ""
      ],
      "execution_count": null,
      "outputs": []
    },
    {
      "cell_type": "markdown",
      "metadata": {
        "id": "3DBIAZ1KgTbb",
        "colab_type": "text"
      },
      "source": [
        "# Compiling the model\n",
        "\n",
        "After the model is created, you must call the compile() method to specify the loss function and the optimizer to use. "
      ]
    },
    {
      "cell_type": "code",
      "metadata": {
        "id": "NZuJYBeEgWLg",
        "colab_type": "code",
        "colab": {}
      },
      "source": [
        "model.compile(loss = \"sparse_categorical_crossentropy\", \n",
        "             optimizer = 'sgd', \n",
        "             metrics=['accuracy'])"
      ],
      "execution_count": null,
      "outputs": []
    },
    {
      "cell_type": "markdown",
      "metadata": {
        "id": "tM0NV0vWhKRB",
        "colab_type": "text"
      },
      "source": [
        "\n",
        "\n",
        "1.   We use sparse categorical cross entropy beacuse we have sparse labels from 0 to 9 and  the classes are exclusive.\n",
        "2.   Optimizer will be Stochastic Gradeint Descent for backpropagation. And the default learning rate is 0.01. For manually setting the learning rate,  we will use  optimizer  = keras.optimizer.SGD(lr = whichever value we want it to be) rather than just typing optimizer = sgd.\n",
        "3.   Since it is a classifier, we will use the accuracy metrix \n",
        "\n"
      ]
    },
    {
      "cell_type": "markdown",
      "metadata": {
        "id": "6bEzQ4cZiLu9",
        "colab_type": "text"
      },
      "source": [
        "# Training and evaluating the model"
      ]
    },
    {
      "cell_type": "code",
      "metadata": {
        "id": "BN1C3awHg04v",
        "colab_type": "code",
        "colab": {
          "base_uri": "https://localhost:8080/",
          "height": 1000
        },
        "outputId": "b938389a-c6fd-4f9d-e594-9cbf5e0aec94"
      },
      "source": [
        "history = model.fit(X_train, y_train, epochs = 30, validation_data=(X_valid, y_valid))"
      ],
      "execution_count": null,
      "outputs": [
        {
          "output_type": "stream",
          "text": [
            "Epoch 1/30\n",
            "1719/1719 [==============================] - 6s 4ms/step - loss: 0.7173 - accuracy: 0.7634 - val_loss: 0.5094 - val_accuracy: 0.8312\n",
            "Epoch 2/30\n",
            "1719/1719 [==============================] - 6s 3ms/step - loss: 0.4859 - accuracy: 0.8317 - val_loss: 0.4494 - val_accuracy: 0.8420\n",
            "Epoch 3/30\n",
            "1719/1719 [==============================] - 6s 3ms/step - loss: 0.4394 - accuracy: 0.8476 - val_loss: 0.4212 - val_accuracy: 0.8576\n",
            "Epoch 4/30\n",
            "1719/1719 [==============================] - 5s 3ms/step - loss: 0.4124 - accuracy: 0.8557 - val_loss: 0.4004 - val_accuracy: 0.8622\n",
            "Epoch 5/30\n",
            "1719/1719 [==============================] - 5s 3ms/step - loss: 0.3914 - accuracy: 0.8627 - val_loss: 0.3832 - val_accuracy: 0.8666\n",
            "Epoch 6/30\n",
            "1719/1719 [==============================] - 5s 3ms/step - loss: 0.3761 - accuracy: 0.8685 - val_loss: 0.3810 - val_accuracy: 0.8698\n",
            "Epoch 7/30\n",
            "1719/1719 [==============================] - 5s 3ms/step - loss: 0.3617 - accuracy: 0.8722 - val_loss: 0.3578 - val_accuracy: 0.8728\n",
            "Epoch 8/30\n",
            "1719/1719 [==============================] - 5s 3ms/step - loss: 0.3492 - accuracy: 0.8758 - val_loss: 0.3515 - val_accuracy: 0.8736\n",
            "Epoch 9/30\n",
            "1719/1719 [==============================] - 5s 3ms/step - loss: 0.3394 - accuracy: 0.8790 - val_loss: 0.3580 - val_accuracy: 0.8732\n",
            "Epoch 10/30\n",
            "1719/1719 [==============================] - 6s 4ms/step - loss: 0.3304 - accuracy: 0.8819 - val_loss: 0.3432 - val_accuracy: 0.8802\n",
            "Epoch 11/30\n",
            "1719/1719 [==============================] - 6s 3ms/step - loss: 0.3223 - accuracy: 0.8838 - val_loss: 0.3535 - val_accuracy: 0.8752\n",
            "Epoch 12/30\n",
            "1719/1719 [==============================] - 5s 3ms/step - loss: 0.3147 - accuracy: 0.8869 - val_loss: 0.3448 - val_accuracy: 0.8766\n",
            "Epoch 13/30\n",
            "1719/1719 [==============================] - 6s 3ms/step - loss: 0.3081 - accuracy: 0.8893 - val_loss: 0.3228 - val_accuracy: 0.8844\n",
            "Epoch 14/30\n",
            "1719/1719 [==============================] - 5s 3ms/step - loss: 0.3001 - accuracy: 0.8925 - val_loss: 0.3196 - val_accuracy: 0.8862\n",
            "Epoch 15/30\n",
            "1719/1719 [==============================] - 6s 3ms/step - loss: 0.2934 - accuracy: 0.8941 - val_loss: 0.3293 - val_accuracy: 0.8838\n",
            "Epoch 16/30\n",
            "1719/1719 [==============================] - 5s 3ms/step - loss: 0.2888 - accuracy: 0.8958 - val_loss: 0.3170 - val_accuracy: 0.8792\n",
            "Epoch 17/30\n",
            "1719/1719 [==============================] - 5s 3ms/step - loss: 0.2831 - accuracy: 0.8983 - val_loss: 0.3129 - val_accuracy: 0.8852\n",
            "Epoch 18/30\n",
            "1719/1719 [==============================] - 5s 3ms/step - loss: 0.2777 - accuracy: 0.9003 - val_loss: 0.3081 - val_accuracy: 0.8848\n",
            "Epoch 19/30\n",
            "1719/1719 [==============================] - 5s 3ms/step - loss: 0.2724 - accuracy: 0.9005 - val_loss: 0.3092 - val_accuracy: 0.8850\n",
            "Epoch 20/30\n",
            "1719/1719 [==============================] - 5s 3ms/step - loss: 0.2680 - accuracy: 0.9029 - val_loss: 0.3040 - val_accuracy: 0.8876\n",
            "Epoch 21/30\n",
            "1719/1719 [==============================] - 6s 3ms/step - loss: 0.2628 - accuracy: 0.9049 - val_loss: 0.3140 - val_accuracy: 0.8894\n",
            "Epoch 22/30\n",
            "1719/1719 [==============================] - 6s 3ms/step - loss: 0.2585 - accuracy: 0.9065 - val_loss: 0.3219 - val_accuracy: 0.8780\n",
            "Epoch 23/30\n",
            "1719/1719 [==============================] - 6s 3ms/step - loss: 0.2543 - accuracy: 0.9077 - val_loss: 0.3043 - val_accuracy: 0.8900\n",
            "Epoch 24/30\n",
            "1719/1719 [==============================] - 5s 3ms/step - loss: 0.2490 - accuracy: 0.9096 - val_loss: 0.3368 - val_accuracy: 0.8816\n",
            "Epoch 25/30\n",
            "1719/1719 [==============================] - 5s 3ms/step - loss: 0.2456 - accuracy: 0.9107 - val_loss: 0.3208 - val_accuracy: 0.8852\n",
            "Epoch 26/30\n",
            "1719/1719 [==============================] - 6s 3ms/step - loss: 0.2418 - accuracy: 0.9131 - val_loss: 0.3167 - val_accuracy: 0.8844\n",
            "Epoch 27/30\n",
            "1719/1719 [==============================] - 6s 3ms/step - loss: 0.2374 - accuracy: 0.9129 - val_loss: 0.3090 - val_accuracy: 0.8872\n",
            "Epoch 28/30\n",
            "1719/1719 [==============================] - 6s 3ms/step - loss: 0.2341 - accuracy: 0.9146 - val_loss: 0.2916 - val_accuracy: 0.8926\n",
            "Epoch 29/30\n",
            "1719/1719 [==============================] - 6s 3ms/step - loss: 0.2292 - accuracy: 0.9176 - val_loss: 0.3026 - val_accuracy: 0.8914\n",
            "Epoch 30/30\n",
            "1719/1719 [==============================] - 6s 4ms/step - loss: 0.2267 - accuracy: 0.9180 - val_loss: 0.2943 - val_accuracy: 0.8948\n"
          ],
          "name": "stdout"
        }
      ]
    },
    {
      "cell_type": "markdown",
      "metadata": {
        "id": "x0rxF9VzWfAY",
        "colab_type": "text"
      },
      "source": [
        "# Plotting the learning curve of our algorithm "
      ]
    },
    {
      "cell_type": "code",
      "metadata": {
        "id": "LoNho9j7ihNk",
        "colab_type": "code",
        "colab": {}
      },
      "source": [
        "import pandas as pd\n",
        "import matplotlib.pyplot as plt\n"
      ],
      "execution_count": null,
      "outputs": []
    },
    {
      "cell_type": "code",
      "metadata": {
        "id": "aTAEcc64Wps1",
        "colab_type": "code",
        "colab": {
          "base_uri": "https://localhost:8080/",
          "height": 338
        },
        "outputId": "36a49226-d2fd-4f28-ba99-c023fd90d0b7"
      },
      "source": [
        "pd.DataFrame(history.history).plot(figsize = (8,5)) #history.history contains the loss and extra metrics of the model\n",
        "plt.grid(True)\n",
        "plt.gca().set_ylim(0,1) #set the vertical range to [0-1]\n",
        "plt.xlabel(\"Epoch\")\n",
        "plt.ylabel(\"Accuracy\")\n",
        "plt.show()"
      ],
      "execution_count": null,
      "outputs": [
        {
          "output_type": "display_data",
          "data": {
            "image/png": "[encoded data removed]",
            "text/plain": [
              "<Figure size 576x360 with 1 Axes>"
            ]
          },
          "metadata": {
            "tags": [],
            "needs_background": "light"
          }
        }
      ]
    },
    {
      "cell_type": "markdown",
      "metadata": {
        "id": "5RevU0cKkt7y",
        "colab_type": "text"
      },
      "source": [
        "\n",
        "\n",
        "*   Lets evaluate the performance of our model\n",
        "\n"
      ]
    },
    {
      "cell_type": "code",
      "metadata": {
        "id": "6I97DmSCW-Gy",
        "colab_type": "code",
        "colab": {
          "base_uri": "https://localhost:8080/",
          "height": 51
        },
        "outputId": "128d912b-f66a-4a9b-95fb-77001680721b"
      },
      "source": [
        "model.evaluate(X_test, y_test)"
      ],
      "execution_count": null,
      "outputs": [
        {
          "output_type": "stream",
          "text": [
            "313/313 [==============================] - 1s 2ms/step - loss: 66.9754 - accuracy: 0.8424\n"
          ],
          "name": "stdout"
        },
        {
          "output_type": "execute_result",
          "data": {
            "text/plain": [
              "[66.97541809082031, 0.8424000144004822]"
            ]
          },
          "metadata": {
            "tags": []
          },
          "execution_count": 25
        }
      ]
    },
    {
      "cell_type": "code",
      "metadata": {
        "id": "5a7ekyhvk631",
        "colab_type": "code",
        "colab": {
          "base_uri": "https://localhost:8080/",
          "height": 34
        },
        "outputId": "6d397824-8d26-438c-cb5c-999b6cf50aa7"
      },
      "source": [
        "y_test.shape"
      ],
      "execution_count": null,
      "outputs": [
        {
          "output_type": "execute_result",
          "data": {
            "text/plain": [
              "(10000,)"
            ]
          },
          "metadata": {
            "tags": []
          },
          "execution_count": 24
        }
      ]
    },
    {
      "cell_type": "code",
      "metadata": {
        "id": "ZAm1RC6QmOC-",
        "colab_type": "code",
        "colab": {}
      },
      "source": [
        ""
      ],
      "execution_count": null,
      "outputs": []
    },
    {
      "cell_type": "markdown",
      "metadata": {
        "id": "CfBQWECkqOPS",
        "colab_type": "text"
      },
      "source": [
        "# Using the model to make predictions"
      ]
    },
    {
      "cell_type": "code",
      "metadata": {
        "id": "qvlt1YRuqRaI",
        "colab_type": "code",
        "colab": {}
      },
      "source": [
        "X_new = X_test[:3]"
      ],
      "execution_count": null,
      "outputs": []
    },
    {
      "cell_type": "code",
      "metadata": {
        "id": "HRvjzm3eqVXr",
        "colab_type": "code",
        "colab": {}
      },
      "source": [
        "y_prob = model.predict(X_new)"
      ],
      "execution_count": null,
      "outputs": []
    },
    {
      "cell_type": "code",
      "metadata": {
        "id": "WKRjF0GjqbQQ",
        "colab_type": "code",
        "colab": {
          "base_uri": "https://localhost:8080/",
          "height": 68
        },
        "outputId": "59565964-4947-4b26-af35-2f3f1a7e2491"
      },
      "source": [
        "y_prob.round(2)"
      ],
      "execution_count": null,
      "outputs": [
        {
          "output_type": "execute_result",
          "data": {
            "text/plain": [
              "array([[0., 0., 0., 0., 0., 0., 0., 0., 0., 1.],\n",
              "       [0., 0., 1., 0., 0., 0., 0., 0., 0., 0.],\n",
              "       [0., 1., 0., 0., 0., 0., 0., 0., 0., 0.]], dtype=float32)"
            ]
          },
          "metadata": {
            "tags": []
          },
          "execution_count": 28
        }
      ]
    },
    {
      "cell_type": "code",
      "metadata": {
        "id": "nOpDvUlIqdsc",
        "colab_type": "code",
        "colab": {
          "base_uri": "https://localhost:8080/",
          "height": 88
        },
        "outputId": "ba39a836-eeb3-4c87-99f7-bb7eab6ccf6d"
      },
      "source": [
        "y_pred = model.predict_classes(X_new)"
      ],
      "execution_count": null,
      "outputs": [
        {
          "output_type": "stream",
          "text": [
            "WARNING:tensorflow:From <ipython-input-29-53f3df9ca645>:1: Sequential.predict_classes (from tensorflow.python.keras.engine.sequential) is deprecated and will be removed after 2021-01-01.\n",
            "Instructions for updating:\n",
            "Please use instead:* `np.argmax(model.predict(x), axis=-1)`,   if your model does multi-class classification   (e.g. if it uses a `softmax` last-layer activation).* `(model.predict(x) > 0.5).astype(\"int32\")`,   if your model does binary classification   (e.g. if it uses a `sigmoid` last-layer activation).\n"
          ],
          "name": "stdout"
        }
      ]
    },
    {
      "cell_type": "code",
      "metadata": {
        "id": "aX4m8TALtZ8m",
        "colab_type": "code",
        "colab": {
          "base_uri": "https://localhost:8080/",
          "height": 34
        },
        "outputId": "691d1116-c429-4e62-9d48-e4ba7d78d846"
      },
      "source": [
        "y_pred"
      ],
      "execution_count": null,
      "outputs": [
        {
          "output_type": "execute_result",
          "data": {
            "text/plain": [
              "array([9, 2, 1])"
            ]
          },
          "metadata": {
            "tags": []
          },
          "execution_count": 30
        }
      ]
    },
    {
      "cell_type": "code",
      "metadata": {
        "id": "bFfbByEmtbLT",
        "colab_type": "code",
        "colab": {
          "base_uri": "https://localhost:8080/",
          "height": 34
        },
        "outputId": "d5b9b835-7cc4-4f4c-c49c-b7f70b5d958c"
      },
      "source": [
        "import numpy as np\n",
        "np.array(class_names)[y_pred]"
      ],
      "execution_count": null,
      "outputs": [
        {
          "output_type": "execute_result",
          "data": {
            "text/plain": [
              "array(['Ankle boot', 'Pullover', 'Trouser'], dtype='<U11')"
            ]
          },
          "metadata": {
            "tags": []
          },
          "execution_count": 32
        }
      ]
    },
    {
      "cell_type": "code",
      "metadata": {
        "id": "dNnkHV0otfNr",
        "colab_type": "code",
        "colab": {}
      },
      "source": [
        "y_new = y_test[:3]"
      ],
      "execution_count": null,
      "outputs": []
    },
    {
      "cell_type": "code",
      "metadata": {
        "id": "EWYZ-xRKtsR7",
        "colab_type": "code",
        "colab": {
          "base_uri": "https://localhost:8080/",
          "height": 34
        },
        "outputId": "55b580bf-643d-42a2-aa8e-4b2c0a1b704d"
      },
      "source": [
        "y_new"
      ],
      "execution_count": null,
      "outputs": [
        {
          "output_type": "execute_result",
          "data": {
            "text/plain": [
              "array([9, 2, 1], dtype=uint8)"
            ]
          },
          "metadata": {
            "tags": []
          },
          "execution_count": 34
        }
      ]
    },
    {
      "cell_type": "markdown",
      "metadata": {
        "id": "DlyJIhqXtvq7",
        "colab_type": "text"
      },
      "source": [
        "We can see that the classifier actually classified all three images cprrectly. "
      ]
    },
    {
      "cell_type": "code",
      "metadata": {
        "id": "UPHZpMH-ttEV",
        "colab_type": "code",
        "colab": {}
      },
      "source": [
        ""
      ],
      "execution_count": null,
      "outputs": []
    }
  ]
}