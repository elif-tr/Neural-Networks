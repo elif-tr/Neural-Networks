{
  "nbformat": 4,
  "nbformat_minor": 0,
  "metadata": {
    "colab": {
      "name": "Regression MLP Using Sequential  API.ipynb",
      "provenance": [],
      "collapsed_sections": [],
      "authorship_tag": "ABX9TyPPUq8GecairFs0+hqHpDiB",
      "include_colab_link": true
    },
    "kernelspec": {
      "name": "python3",
      "display_name": "Python 3"
    }
  },
  "cells": [
    {
      "cell_type": "markdown",
      "metadata": {
        "id": "view-in-github",
        "colab_type": "text"
      },
      "source": [
        "<a href=\"https://colab.research.google.com/github/elif-tr/Neural-Networks/blob/master/Regression_MLP_Using_Sequential_API.ipynb\" target=\"_parent\"><img src=\"https://colab.research.google.com/assets/colab-badge.svg\" alt=\"Open In Colab\"/></a>"
      ]
    },
    {
      "cell_type": "markdown",
      "metadata": {
        "id": "hiHlfeZGqXEU",
        "colab_type": "text"
      },
      "source": [
        "# Building a Regression MLP Using Sequential API"
      ]
    },
    {
      "cell_type": "code",
      "metadata": {
        "id": "7BznxY-SlTNG",
        "colab_type": "code",
        "colab": {}
      },
      "source": [
        "from sklearn.datasets import fetch_california_housing\n",
        "from sklearn.model_selection import train_test_split\n",
        "from sklearn.preprocessing import StandardScaler\n",
        "import tensorflow as tf\n",
        "from tensorflow import keras"
      ],
      "execution_count": 9,
      "outputs": []
    },
    {
      "cell_type": "code",
      "metadata": {
        "id": "OYa6ngkAl7dk",
        "colab_type": "code",
        "colab": {
          "base_uri": "https://localhost:8080/",
          "height": 34
        },
        "outputId": "228eb5ce-ec99-412f-a564-3cc4e6146fa9"
      },
      "source": [
        "housing = fetch_california_housing()"
      ],
      "execution_count": 3,
      "outputs": [
        {
          "output_type": "stream",
          "text": [
            "Downloading Cal. housing from https://ndownloader.figshare.com/files/5976036 to /root/scikit_learn_data\n"
          ],
          "name": "stderr"
        }
      ]
    },
    {
      "cell_type": "markdown",
      "metadata": {
        "id": "CNJB5X9dmqO0",
        "colab_type": "text"
      },
      "source": [
        "\n",
        "\n",
        "*   We will first split our data for training and testing.\n",
        "\n"
      ]
    },
    {
      "cell_type": "code",
      "metadata": {
        "id": "678SR3-7mIAs",
        "colab_type": "code",
        "colab": {}
      },
      "source": [
        "X_train_full, X_test, y_train_full, y_test = train_test_split(housing.data, housing.target)"
      ],
      "execution_count": 4,
      "outputs": []
    },
    {
      "cell_type": "markdown",
      "metadata": {
        "id": "Ts0GuIEJmyWb",
        "colab_type": "text"
      },
      "source": [
        "\n",
        "\n",
        "*   We will now split our training data for training and validation\n"
      ]
    },
    {
      "cell_type": "code",
      "metadata": {
        "id": "YoIe6pR_mb9v",
        "colab_type": "code",
        "colab": {}
      },
      "source": [
        "X_train, X_valid, y_train, y_valid = train_test_split(X_train_full, y_train_full)"
      ],
      "execution_count": 6,
      "outputs": []
    },
    {
      "cell_type": "markdown",
      "metadata": {
        "id": "6s6Da39VnE8O",
        "colab_type": "text"
      },
      "source": [
        "We will now scale our input features with standar scaler."
      ]
    },
    {
      "cell_type": "code",
      "metadata": {
        "id": "UW7gF_7mmnyx",
        "colab_type": "code",
        "colab": {}
      },
      "source": [
        "scaler = StandardScaler()\n",
        "X_train = scaler.fit_transform(X_train)\n",
        "X_valid = scaler.transform(X_valid)\n",
        "X_test = scaler.transform(X_test)"
      ],
      "execution_count": 7,
      "outputs": []
    },
    {
      "cell_type": "code",
      "metadata": {
        "id": "xuHxYIAlnhx0",
        "colab_type": "code",
        "colab": {}
      },
      "source": [
        "model = keras.models.Sequential([\n",
        "                                 keras.layers.Dense(30, activation = \"relu\", input_shape = X_train.shape[1:]),\n",
        "                                 keras.layers.Dense(1)\n",
        "])"
      ],
      "execution_count": 10,
      "outputs": []
    },
    {
      "cell_type": "markdown",
      "metadata": {
        "id": "qYEuvWCgpyF7",
        "colab_type": "text"
      },
      "source": [
        "\n",
        "\n",
        "*   Output layer will have a single neuron beacuse we want to predict a single value and uses no activation function. However, if we wish to limit the values to positives only, we could have used Relu as out output layers activation function as well. \n",
        "*   The data is a little noisy therefore, we decided to have only one hidden layer to avoid  overfitting.\n",
        "\n"
      ]
    },
    {
      "cell_type": "code",
      "metadata": {
        "id": "l9KLgbqon_0c",
        "colab_type": "code",
        "colab": {}
      },
      "source": [
        "model.compile(loss= \"mean_squared_error\", optimizer=\"sgd\")"
      ],
      "execution_count": 11,
      "outputs": []
    },
    {
      "cell_type": "code",
      "metadata": {
        "id": "PEmI0tTAoa1T",
        "colab_type": "code",
        "colab": {
          "base_uri": "https://localhost:8080/",
          "height": 697
        },
        "outputId": "3caece40-bc82-4eeb-b9c3-1e805347d59d"
      },
      "source": [
        "history = model.fit(X_train, y_train, epochs = 20,  validation_data=(X_valid, y_valid))"
      ],
      "execution_count": 15,
      "outputs": [
        {
          "output_type": "stream",
          "text": [
            "Epoch 1/20\n",
            "363/363 [==============================] - 0s 1ms/step - loss: 0.3664 - val_loss: 0.3946\n",
            "Epoch 2/20\n",
            "363/363 [==============================] - 0s 1ms/step - loss: 0.3623 - val_loss: 0.4118\n",
            "Epoch 3/20\n",
            "363/363 [==============================] - 0s 1ms/step - loss: 0.3655 - val_loss: 0.3905\n",
            "Epoch 4/20\n",
            "363/363 [==============================] - 0s 1ms/step - loss: 0.3551 - val_loss: 0.3891\n",
            "Epoch 5/20\n",
            "363/363 [==============================] - 0s 1ms/step - loss: 0.3536 - val_loss: 0.3855\n",
            "Epoch 6/20\n",
            "363/363 [==============================] - 0s 1ms/step - loss: 0.3497 - val_loss: 0.3837\n",
            "Epoch 7/20\n",
            "363/363 [==============================] - 0s 1ms/step - loss: 0.3822 - val_loss: 0.3951\n",
            "Epoch 8/20\n",
            "363/363 [==============================] - 0s 1ms/step - loss: 0.3539 - val_loss: 0.3870\n",
            "Epoch 9/20\n",
            "363/363 [==============================] - 0s 1ms/step - loss: 0.3603 - val_loss: 0.4289\n",
            "Epoch 10/20\n",
            "363/363 [==============================] - 0s 994us/step - loss: 0.3598 - val_loss: 0.4017\n",
            "Epoch 11/20\n",
            "363/363 [==============================] - 0s 1ms/step - loss: 0.3490 - val_loss: 0.3815\n",
            "Epoch 12/20\n",
            "363/363 [==============================] - 0s 1ms/step - loss: 0.3418 - val_loss: 0.3888\n",
            "Epoch 13/20\n",
            "363/363 [==============================] - 0s 1ms/step - loss: 0.3401 - val_loss: 0.3801\n",
            "Epoch 14/20\n",
            "363/363 [==============================] - 0s 1ms/step - loss: 0.3399 - val_loss: 0.3826\n",
            "Epoch 15/20\n",
            "363/363 [==============================] - 0s 1ms/step - loss: 0.3557 - val_loss: 0.4615\n",
            "Epoch 16/20\n",
            "363/363 [==============================] - 0s 1ms/step - loss: 0.3495 - val_loss: 0.3813\n",
            "Epoch 17/20\n",
            "363/363 [==============================] - 0s 1ms/step - loss: 0.3411 - val_loss: 0.3828\n",
            "Epoch 18/20\n",
            "363/363 [==============================] - 0s 1ms/step - loss: 0.3369 - val_loss: 0.3828\n",
            "Epoch 19/20\n",
            "363/363 [==============================] - 0s 1ms/step - loss: 0.3370 - val_loss: 0.3776\n",
            "Epoch 20/20\n",
            "363/363 [==============================] - 0s 1ms/step - loss: 0.3460 - val_loss: 0.3739\n"
          ],
          "name": "stdout"
        }
      ]
    },
    {
      "cell_type": "code",
      "metadata": {
        "id": "JV7Z7Wx9o0t-",
        "colab_type": "code",
        "colab": {}
      },
      "source": [
        "import pandas as pd\n",
        "import matplotlib.pyplot as plt"
      ],
      "execution_count": 13,
      "outputs": []
    },
    {
      "cell_type": "code",
      "metadata": {
        "id": "u-PQGsEJpKND",
        "colab_type": "code",
        "colab": {
          "base_uri": "https://localhost:8080/",
          "height": 338
        },
        "outputId": "0d8d12ba-e735-45e2-e2ec-68b62c2463b1"
      },
      "source": [
        "pd.DataFrame(history.history).plot(figsize = (8,5)) #history.history contains the loss and extra metrics of the model\n",
        "plt.grid(True)\n",
        "plt.gca().set_ylim(0,1) #set the vertical range to [0-1]\n",
        "plt.xlabel(\"Epoch\")\n",
        "plt.ylabel(\"RMSE\")\n",
        "plt.show()"
      ],
      "execution_count": 17,
      "outputs": [
        {
          "output_type": "display_data",
          "data": {
            "image/png": "[encoded data removed]",
            "text/plain": [
              "<Figure size 576x360 with 1 Axes>"
            ]
          },
          "metadata": {
            "tags": [],
            "needs_background": "light"
          }
        }
      ]
    },
    {
      "cell_type": "code",
      "metadata": {
        "id": "e2zeADRspN6j",
        "colab_type": "code",
        "colab": {
          "base_uri": "https://localhost:8080/",
          "height": 34
        },
        "outputId": "0b308359-1158-469e-941d-4fb216476555"
      },
      "source": [
        "mse_test = model.evaluate(X_test, y_test)"
      ],
      "execution_count": 18,
      "outputs": [
        {
          "output_type": "stream",
          "text": [
            "162/162 [==============================] - 0s 726us/step - loss: 0.3818\n"
          ],
          "name": "stdout"
        }
      ]
    },
    {
      "cell_type": "markdown",
      "metadata": {
        "id": "Jj7x5sS6r8hq",
        "colab_type": "text"
      },
      "source": [
        "Lets make some predictions"
      ]
    },
    {
      "cell_type": "code",
      "metadata": {
        "id": "bhuv29_7rzZu",
        "colab_type": "code",
        "colab": {}
      },
      "source": [
        "X_new = X_test[:3] #lets pretend these are new instances"
      ],
      "execution_count": 19,
      "outputs": []
    },
    {
      "cell_type": "code",
      "metadata": {
        "id": "UKjJSzt8sGbA",
        "colab_type": "code",
        "colab": {}
      },
      "source": [
        "y_pred =  model.predict(X_new)"
      ],
      "execution_count": 20,
      "outputs": []
    },
    {
      "cell_type": "code",
      "metadata": {
        "id": "LCAigBLZsNRA",
        "colab_type": "code",
        "colab": {
          "base_uri": "https://localhost:8080/",
          "height": 68
        },
        "outputId": "01abba23-f8ff-49ee-f88e-13f8f4b735d5"
      },
      "source": [
        "y_pred"
      ],
      "execution_count": 21,
      "outputs": [
        {
          "output_type": "execute_result",
          "data": {
            "text/plain": [
              "array([[2.5928843],\n",
              "       [1.0165768],\n",
              "       [2.5311239]], dtype=float32)"
            ]
          },
          "metadata": {
            "tags": []
          },
          "execution_count": 21
        }
      ]
    },
    {
      "cell_type": "code",
      "metadata": {
        "id": "xchoekR-sOfr",
        "colab_type": "code",
        "colab": {
          "base_uri": "https://localhost:8080/",
          "height": 34
        },
        "outputId": "d18cb33f-d52e-49fd-fbca-3ed499c18fa3"
      },
      "source": [
        "y_test[:3]"
      ],
      "execution_count": 22,
      "outputs": [
        {
          "output_type": "execute_result",
          "data": {
            "text/plain": [
              "array([2.046, 0.915, 2.365])"
            ]
          },
          "metadata": {
            "tags": []
          },
          "execution_count": 22
        }
      ]
    },
    {
      "cell_type": "markdown",
      "metadata": {
        "id": "Le2qCdJ-sZcq",
        "colab_type": "text"
      },
      "source": [
        "Our model has a 0.3818 error rate for out of sample data points. When we make predictions on the new data as seen above, we can see that our model is preducing values fairly close to its original ones. "
      ]
    }
  ]
}